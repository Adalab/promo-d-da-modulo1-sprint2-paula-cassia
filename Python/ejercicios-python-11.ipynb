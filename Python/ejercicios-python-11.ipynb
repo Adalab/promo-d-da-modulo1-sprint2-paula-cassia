{
 "cells": [
  {
   "attachments": {},
   "cell_type": "markdown",
   "metadata": {},
   "source": [
    "# Leccion 11: Regex"
   ]
  },
  {
   "cell_type": "code",
   "execution_count": 1,
   "metadata": {},
   "outputs": [],
   "source": [
    "import re "
   ]
  },
  {
   "cell_type": "code",
   "execution_count": 2,
   "metadata": {},
   "outputs": [],
   "source": [
    "email = open(\"email.txt\", \"r\").read()"
   ]
  },
  {
   "attachments": {},
   "cell_type": "markdown",
   "metadata": {},
   "source": [
    "### Ejercicio 1\n",
    "Extraer el email de la persona que envió el email (os deberían salir 2).\n",
    "\n",
    "\n",
    "💡 Pista 💡 Tendremos que hacer dos busquedas:\n",
    "- Una para extraer toda la información del remitente. El remitente siempre empieza por From:\n",
    "```python\n",
    "info_remitente = re.findall('From:.*',email)\n",
    "```\n",
    "- Otra para extraer el email únicamente."
   ]
  },
  {
   "cell_type": "code",
   "execution_count": 91,
   "metadata": {},
   "outputs": [],
   "source": [
    "def extraccion_email(email):\n",
    "    info_remitente = re.findall('From:.*',email)\n",
    "    emails_limpios = []\n",
    "    for i in info_remitente:\n",
    "        emails_limpios.extend(re.findall('<(.*\\.com)>', i))\n",
    "    return emails_limpios\n"
   ]
  },
  {
   "cell_type": "code",
   "execution_count": 92,
   "metadata": {},
   "outputs": [
    {
     "data": {
      "text/plain": [
       "['bensul2004nng@spinfinder.com', 'james_ngola2002@maktoob.com']"
      ]
     },
     "execution_count": 92,
     "metadata": {},
     "output_type": "execute_result"
    }
   ],
   "source": [
    "email_remitente = extraccion_email(email)\n",
    "email_remitente"
   ]
  },
  {
   "attachments": {},
   "cell_type": "markdown",
   "metadata": {},
   "source": [
    "### Ejercicio 2\n",
    "Extraer el nombre de la persona que envió el email (os deberían salir 2).\n",
    "\n",
    "\n",
    "💡 Pista 💡 Tendremos que hacer dos busquedas:\n",
    "- Podemos usar el resultado de la primera búsqueda del ejercicio anterior para sacar el nombre.\n",
    "- Otra para extraer el nombre únicamente."
   ]
  },
  {
   "cell_type": "code",
   "execution_count": 101,
   "metadata": {},
   "outputs": [],
   "source": [
    "patron_nombre = '\"(.*)\"'\n",
    "\n",
    "def extraccion_nombre(email):\n",
    "    info_remitente = re.findall('From:.*',email)\n",
    "    nombres = []\n",
    "    for elemento in info_remitente:\n",
    "        nombres.extend(re.findall('\"(.*)\"', elemento))\n",
    "    return nombres"
   ]
  },
  {
   "cell_type": "code",
   "execution_count": 102,
   "metadata": {},
   "outputs": [
    {
     "data": {
      "text/plain": [
       "['Mr. Ben Suleman', 'MR. JAMES NGOLA.']"
      ]
     },
     "execution_count": 102,
     "metadata": {},
     "output_type": "execute_result"
    }
   ],
   "source": [
    "nombre_remitente = extraccion_nombre(email)\n",
    "nombre_remitente"
   ]
  },
  {
   "attachments": {},
   "cell_type": "markdown",
   "metadata": {},
   "source": [
    "### Ejercicio 3\n",
    "El día en el que se mandó el email (os deberían salir 2).\n",
    "💡 Pista 💡 De la misma forma que antes buscamos por From: primero, ahora lo tendremos que hacer con `Date: .*`"
   ]
  },
  {
   "cell_type": "code",
   "execution_count": 72,
   "metadata": {},
   "outputs": [],
   "source": [
    "def extraccion_fecha(texto):\n",
    "    fechas = []\n",
    "    lista = re.findall('Date:.*',texto)\n",
    "    for elemento in lista:\n",
    "        fechas.extend(re.findall('\\w+.\\s\\d+\\s\\w+\\s\\d{4}', elemento))\n",
    "    return fechas\n"
   ]
  },
  {
   "cell_type": "code",
   "execution_count": 73,
   "metadata": {},
   "outputs": [
    {
     "data": {
      "text/plain": [
       "['Thu, 31 Oct 2002', 'Thu, 31 Oct 2002']"
      ]
     },
     "execution_count": 73,
     "metadata": {},
     "output_type": "execute_result"
    }
   ],
   "source": [
    "fecha_remitente= extraccion_fecha(email)\n",
    "fecha_remitente"
   ]
  },
  {
   "attachments": {},
   "cell_type": "markdown",
   "metadata": {},
   "source": [
    "### Ejercicio 4\n",
    "El asunto del email (os deberían salir 2).\n",
    "\n",
    "\n",
    "💡 Pista 💡 Busca primero `\"Subject:.*` y después busca el patrón para extraer el asunto."
   ]
  },
  {
   "cell_type": "code",
   "execution_count": 10,
   "metadata": {},
   "outputs": [
    {
     "data": {
      "text/plain": [
       "['Subject: URGENT ASSISTANCE /RELATIONSHIP (P)',\n",
       " 'Subject: URGENT BUSINESS ASSISTANCE AND PARTNERSHIP']"
      ]
     },
     "execution_count": 10,
     "metadata": {},
     "output_type": "execute_result"
    }
   ],
   "source": [
    "asunto_email = re.findall('Subject:.*',email)\n",
    "\n",
    "asunto_email"
   ]
  },
  {
   "cell_type": "code",
   "execution_count": 75,
   "metadata": {},
   "outputs": [],
   "source": [
    "def extraccion_asunto(texto):\n",
    "    asuntos = []\n",
    "    lista = re.findall('Subject:.*',texto)\n",
    "    for elemento in lista:\n",
    "        asuntos.extend(re.findall('\\s.*', elemento))\n",
    "    return asuntos"
   ]
  },
  {
   "cell_type": "code",
   "execution_count": 76,
   "metadata": {},
   "outputs": [
    {
     "data": {
      "text/plain": [
       "[' URGENT ASSISTANCE /RELATIONSHIP (P)',\n",
       " ' URGENT BUSINESS ASSISTANCE AND PARTNERSHIP']"
      ]
     },
     "execution_count": 76,
     "metadata": {},
     "output_type": "execute_result"
    }
   ],
   "source": [
    "asunto_email = extraccion_asunto(email)\n",
    "asunto_email"
   ]
  },
  {
   "attachments": {},
   "cell_type": "markdown",
   "metadata": {},
   "source": [
    "### Ejercicio 5\n",
    "Guarda todos los resultados en un diccionario"
   ]
  },
  {
   "cell_type": "code",
   "execution_count": 103,
   "metadata": {},
   "outputs": [
    {
     "data": {
      "text/plain": [
       "{'email': ['bensul2004nng@spinfinder.com', 'james_ngola2002@maktoob.com'],\n",
       " 'nombre': ['Mr. Ben Suleman', 'MR. JAMES NGOLA.'],\n",
       " 'fecha': ['Thu, 31 Oct 2002', 'Thu, 31 Oct 2002'],\n",
       " 'asunto': [' URGENT ASSISTANCE /RELATIONSHIP (P)',\n",
       "  ' URGENT BUSINESS ASSISTANCE AND PARTNERSHIP']}"
      ]
     },
     "execution_count": 103,
     "metadata": {},
     "output_type": "execute_result"
    }
   ],
   "source": [
    "diccionario_email = dict(email = email_remitente, nombre = nombre_remitente, fecha = fecha_remitente, asunto = asunto_email)\n",
    "\n",
    "diccionario_email"
   ]
  }
 ],
 "metadata": {
  "kernelspec": {
   "display_name": "base",
   "language": "python",
   "name": "python3"
  },
  "language_info": {
   "codemirror_mode": {
    "name": "ipython",
    "version": 3
   },
   "file_extension": ".py",
   "mimetype": "text/x-python",
   "name": "python",
   "nbconvert_exporter": "python",
   "pygments_lexer": "ipython3",
   "version": "3.9.7"
  },
  "orig_nbformat": 4
 },
 "nbformat": 4,
 "nbformat_minor": 2
}
