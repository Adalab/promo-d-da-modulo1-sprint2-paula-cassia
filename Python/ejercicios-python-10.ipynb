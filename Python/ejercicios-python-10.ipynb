{
 "cells": [
  {
   "attachments": {},
   "cell_type": "markdown",
   "metadata": {},
   "source": [
    "# Leccion 10: Clases"
   ]
  },
  {
   "attachments": {},
   "cell_type": "markdown",
   "metadata": {},
   "source": [
    "- Definid una clase que se llame Empleados\n",
    "- Definid los siguientes atributos que caracterizan a nuestros empleados:\n",
    "    - nombre\n",
    "    - apellido\n",
    "    - edad\n",
    "    - posición que ocupa en la empresa\n",
    "    - año en que entró en la empresa\n",
    "    - número de días de vacaciones que tiene\n",
    "    - Las herramientas que usa cada uno de ellos, por ejemplo, Outlook, excel y word. Deberá ser una lista.\n",
    "- Cread una instancia para la clase creada"
   ]
  },
  {
   "cell_type": "code",
   "execution_count": 7,
   "metadata": {},
   "outputs": [],
   "source": [
    "class Empleados:\n",
    "    def __init__ (self, nombre, apellido, edad, posicion_empresa, año_entrada, dias_vacaciones, herramientas):\n",
    "        \n",
    "        self.nombre = nombre\n",
    "        self.apellido = apellido\n",
    "        self.edad = edad\n",
    "        self.posicion_empresa = posicion_empresa\n",
    "        self.año_entrada = año_entrada\n",
    "        self.dias_vacaciones = dias_vacaciones\n",
    "        self.herramientas = herramientas\n"
   ]
  },
  {
   "cell_type": "code",
   "execution_count": 10,
   "metadata": {},
   "outputs": [],
   "source": [
    "maria = Empleados(\"Maria\", \"Lopez\", 34, \"Directora Financiera\", 2007, 30, [\"Powerpoint\", \"Python\", \"Outlook\"])"
   ]
  },
  {
   "attachments": {},
   "cell_type": "markdown",
   "metadata": {},
   "source": [
    "- Definid los siguientes métodos:\n",
    "    - descripción\n",
    "    - calculo_vacaciones\n",
    "    - cambiando_posicion\n",
    "\n",
    "Tips para definir los métodos:\n",
    "\n",
    "Método descripcion:\n",
    "- El return deberá ser un string en el que aparezca el nombre, apellidos, los años que lleva en la empresa y los días de vacaciones que le quedan. \n",
    "- Este método deberá devolver algo como esto:\n",
    "```python\n",
    "\"El/ella, es Lorena, Data Analyst, quien lleva con nostros en la empresa desde 2000. Además este año le quedan 15 dias de vacaciones\"\n",
    "```"
   ]
  },
  {
   "cell_type": "code",
   "execution_count": 11,
   "metadata": {},
   "outputs": [
    {
     "data": {
      "text/plain": [
       "'El/Ella es Maria Lopez tiene 34 años, lleva con nosotros desde 2007 y ocupa el puesto de Directora Financiera. Aún le quedan 30 días de vacaciones.'"
      ]
     },
     "execution_count": 11,
     "metadata": {},
     "output_type": "execute_result"
    }
   ],
   "source": [
    "class Empleados:\n",
    "    def __init__ (self, nombre, apellido, edad, posicion_empresa, año_entrada, dias_vacaciones, herramientas):\n",
    "        \n",
    "        self.nombre = nombre\n",
    "        self.apellido = apellido\n",
    "        self.edad = edad\n",
    "        self.posicion_empresa = posicion_empresa\n",
    "        self.año_entrada = año_entrada\n",
    "        self.dias_vacaciones = dias_vacaciones\n",
    "        self.herramientas = herramientas\n",
    "\n",
    "\n",
    "    def descripcion(self):\n",
    "        return f\"El/Ella es {self.nombre} {self.apellido} tiene {self.edad} años, lleva con nosotros desde {self.año_entrada} y ocupa el puesto de {self.posicion_empresa}. Aún le quedan {self.dias_vacaciones} días de vacaciones.\"\n",
    "    \n",
    "maria.descripcion()"
   ]
  },
  {
   "attachments": {},
   "cell_type": "markdown",
   "metadata": {},
   "source": [
    "Método calculo_vacaciones:\n",
    "- Deberá contener input que nos pregunte cuántos días te quieres ir de vacaciones.\n",
    "- Luego deberemos restar el número de días que se fue de vacaciones a el número total de vacaciones que tiene ese empleado.\n",
    "\n",
    "- Una condición que chequee si:\n",
    "    - Si el numero de vacaciones que tiene el empleado es igual a 0, devolved un mensaje que diga que se le acabaron las vacaciones\n",
    "    - Si el número de días que se quiere ir de vacaciones es mayor que el número de vacaciones que le quedan, devolved un mensaje que diga que no se puede ir tantos de vacaciones\n",
    "    - En caso de que no se cumplan ninguna de estas condiciones, que nos devuelva el número de vacaciones que le quedan al empleado."
   ]
  },
  {
   "cell_type": "code",
   "execution_count": 14,
   "metadata": {},
   "outputs": [],
   "source": [
    "maria = Empleados(\"Maria\", \"Lopez\", 34, \"Directora Financiera\", 2007, 30, [\"Powerpoint\", \"Python\", \"Outlook\"])"
   ]
  },
  {
   "cell_type": "code",
   "execution_count": 15,
   "metadata": {},
   "outputs": [
    {
     "data": {
      "text/plain": [
       "'Le quedan 15 días de vacaciones'"
      ]
     },
     "execution_count": 15,
     "metadata": {},
     "output_type": "execute_result"
    }
   ],
   "source": [
    "class Empleados:\n",
    "    def __init__ (self, nombre, apellido, edad, posicion_empresa, año_entrada, dias_vacaciones, herramientas):\n",
    "        \n",
    "        self.nombre = nombre\n",
    "        self.apellido = apellido\n",
    "        self.edad = edad\n",
    "        self.posicion_empresa = posicion_empresa\n",
    "        self.año_entrada = año_entrada\n",
    "        self.dias_vacaciones = dias_vacaciones\n",
    "        self.herramientas = herramientas\n",
    "\n",
    "    \n",
    "    def calc_vacaciones(self):\n",
    "        dias_deseados = int(input(\"Escriba el numero de dias deseados.\"))\n",
    "\n",
    "        resultado_dias = self.dias_vacaciones - dias_deseados\n",
    "\n",
    "        if self.dias_vacaciones == 0:\n",
    "            return f\"No tiene vacaciones\"\n",
    "        elif dias_deseados > self.dias_vacaciones:\n",
    "            return f\"No puede tener tantas vacaciones\"\n",
    "        else:\n",
    "            return f\"Le quedan {resultado_dias} días de vacaciones\"    \n",
    "        \n",
    "maria.calc_vacaciones()\n",
    "\n",
    "      "
   ]
  },
  {
   "attachments": {},
   "cell_type": "markdown",
   "metadata": {},
   "source": [
    "Método cambiando_posicion:\n",
    "- Iteraremos por la lista de herramientas que usa el empleado:\n",
    "    - Si el empleado usa \"Python\" devolveremos un mensaje de bien hecho!\n",
    "    - Si el empleado usa \"Excel\" le recomendaremos amigablemente que deje excel y empiece a usar Excel"
   ]
  },
  {
   "cell_type": "code",
   "execution_count": 28,
   "metadata": {},
   "outputs": [],
   "source": [
    "maria = Empleados(\"Maria\", \"Lopez\", 34, \"Directora Financiera\", 2007, 30, [\"Powerpoint\", \"Python\", \"Outlook\"])"
   ]
  },
  {
   "cell_type": "code",
   "execution_count": 29,
   "metadata": {},
   "outputs": [
    {
     "data": {
      "text/plain": [
       "'¡Usas Python, bien hecho!'"
      ]
     },
     "execution_count": 29,
     "metadata": {},
     "output_type": "execute_result"
    }
   ],
   "source": [
    "class Empleados:\n",
    "    def __init__ (self, nombre, apellido, edad, posicion_empresa, año_entrada, dias_vacaciones, herramientas):\n",
    "        \n",
    "        self.nombre = nombre\n",
    "        self.apellido = apellido\n",
    "        self.edad = edad\n",
    "        self.posicion_empresa = posicion_empresa\n",
    "        self.año_entrada = año_entrada\n",
    "        self.dias_vacaciones = dias_vacaciones\n",
    "        self.herramientas = herramientas\n",
    "\n",
    "    def cambio_posicion(self):\n",
    "       \n",
    "        for i in self.herramientas:\n",
    "            if i == \"Python\":\n",
    "                return f\"¡Usas Python, bien hecho!\"\n",
    "            elif i == \"Excel\":\n",
    "                return f\"Deberías cambiar a SQL\"\n",
    "\n",
    "            \n",
    "maria.cambio_posicion()"
   ]
  }
 ],
 "metadata": {
  "kernelspec": {
   "display_name": "base",
   "language": "python",
   "name": "python3"
  },
  "language_info": {
   "codemirror_mode": {
    "name": "ipython",
    "version": 3
   },
   "file_extension": ".py",
   "mimetype": "text/x-python",
   "name": "python",
   "nbconvert_exporter": "python",
   "pygments_lexer": "ipython3",
   "version": "3.9.7"
  },
  "orig_nbformat": 4
 },
 "nbformat": 4,
 "nbformat_minor": 2
}
