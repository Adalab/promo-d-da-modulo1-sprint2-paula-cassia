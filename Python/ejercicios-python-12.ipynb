{
 "cells": [
  {
   "attachments": {},
   "cell_type": "markdown",
   "metadata": {},
   "source": [
    "# Leccion 12: Ficheros\n",
    "\n",
    "## Creación de carpetas y movimientos entre ellas\n",
    "\n",
    "---------------------------------- PRIMERA FUNCIÓN -----------------------\n",
    "\n",
    "Esta función debe incluir el código que:\n",
    "\n",
    "1. Nos muestre en que carpeta estamos trabajando.\n",
    "2. Cree una carpeta que se llame \"aprendiendo-ficheros\". ⚠️ Tened en cuenta que si la carpeta ya existe no la podemos crear, nos devolverá un error. Incluye en la función un programa que evite que nos de un error si la carpeta ya existe.\n",
    "3. Cree otra carpeta que se llame \"datos\" dentro de la carpeta \"aprendiendo-ficheros\". En esta carpeta \"datos\" guardaremos el fichero \"saludo.txt\" que os habéis descargado.\n",
    "4. Cambiad el directorio de trabajo a la carpeta \"datos\". Antes de seguir chequead que estáis trabajando en la carpeta \"datos\".\n",
    "5. Cambiad el nombre de la carpeta creada en el punto 2 a \"primera-toma-contacto\"\n",
    "\n",
    "💡 Pistas para resolver este ejercicio 💡 Esta función debe incluir el código que:\n",
    "\n",
    "1. La función tendrá que recibir 3 parámetros:\n",
    "        - El nombre del nombre de la primera carpeta\n",
    "        - El nombre de la carpeta segunda carpeta\n",
    "        - El nombre con el que queramos cambiar el nombre de la primera carpeta creada\n",
    "2. Para saber si las carpetas ya existen tendréis que usar lstdir(recordad que nos devuelve una lista de ficheros y carpetas).\n",
    "3. Para poder controlar los errores tendremos que usar un if loop, que si el fichero existe, nos devuelva un mensaje de que el fichero ya existe. En caso de que no exista, los deberéis crear y que la función nos muestre un mensaje de que se ha creado.\n",
    "4. Tendréis que ir cambiando de directorio para poder crear las carpetas y cambiar sus nombres."
   ]
  },
  {
   "cell_type": "code",
   "execution_count": 1,
   "metadata": {},
   "outputs": [],
   "source": [
    "import os"
   ]
  },
  {
   "cell_type": "code",
   "execution_count": 2,
   "metadata": {},
   "outputs": [],
   "source": [
    "def carpetas(nombre_carpeta1, nombre_carpeta2, cambio_nombre):\n",
    "    print(os.getcwd())\n",
    "    try:\n",
    "        os.mkdir(nombre_carpeta1)\n",
    "        print(f\"Se ha creado la carpeta {nombre_carpeta1}\")\n",
    "        os.mkdir(f\"{nombre_carpeta1}/{nombre_carpeta2}\")\n",
    "        print(f\"Se ha creado la carpeta {nombre_carpeta2}\")\n",
    "        os.rename(f\"/mnt/c/Users/Master/Desktop/Adalab/Modulo1/Pair_programming/Sprint2/promo-d-da-modulo1-sprint2-paula-cassia/Python/{nombre_carpeta1}\", f\"/mnt/c/Users/Master/Desktop/Adalab/Modulo1/Pair_programming/Sprint2/promo-d-da-modulo1-sprint2-paula-cassia/Python/{cambio_nombre}\")\n",
    "        print(f\"Se ha renombrado {nombre_carpeta1} a {cambio_nombre}\")\n",
    "        #os.chdir(f\"{nombre_carpeta1}/{nombre_carpeta2}\")\n",
    "        print(\"La ruta de su ubicacion actual es:\", os.getcwd())\n",
    "    except:\n",
    "        print(\"No se puede completar la accion.\")\n",
    "    "
   ]
  },
  {
   "cell_type": "code",
   "execution_count": 3,
   "metadata": {},
   "outputs": [
    {
     "name": "stdout",
     "output_type": "stream",
     "text": [
      "/mnt/c/Users/Master/Desktop/Adalab/Modulo1/Pair_programming/Sprint2/promo-d-da-modulo1-sprint2-paula-cassia/Python\n",
      "Se ha creado la carpeta aprendiendo-ficheros\n",
      "Se ha creado la carpeta datos\n",
      "Se ha renombrado aprendiendo-ficheros a primera-toma-contacto\n",
      "La ruta de su ubicacion actual es: /mnt/c/Users/Master/Desktop/Adalab/Modulo1/Pair_programming/Sprint2/promo-d-da-modulo1-sprint2-paula-cassia/Python\n"
     ]
    }
   ],
   "source": [
    "carpetas(\"aprendiendo-ficheros\", \"datos\", \"primera-toma-contacto\")"
   ]
  },
  {
   "cell_type": "code",
   "execution_count": 9,
   "metadata": {},
   "outputs": [
    {
     "data": {
      "text/plain": [
       "'/mnt/c/Users/Master/Desktop/Adalab/Modulo1/Pair_programming/Sprint2/promo-d-da-modulo1-sprint2-paula-cassia/Python/aprendiendo-ficheros/datos'"
      ]
     },
     "execution_count": 9,
     "metadata": {},
     "output_type": "execute_result"
    }
   ],
   "source": [
    "os.getcwd()"
   ]
  },
  {
   "attachments": {},
   "cell_type": "markdown",
   "metadata": {},
   "source": [
    "---------------------------------- SEGUNDA FUNCIÓN -----------------------\n",
    "\n",
    "📌 Antes de empezar, recordad descargaros el fichero saludo.txt y guardarlo en el repo en el que estáis trabajando, dentro de una carpeta que se llame \"datos\".\n",
    "1. Lea el fichero que se llame \"saludo.txt y muestre su contenido completo.\n",
    "2. Muestra la línea 4 del fichero\n",
    "\n",
    "💡 Pistas para resolver este ejercicio 💡\n",
    "\n",
    "1. Antes de empezar, tendréis que saber cuál es vuestro directorio de trabajo.\n",
    "2. Tened en cuenta en que carpeta estáis. Si vuestro directorio de trabajo no es \"datos\" tendréis que cambiarlo o poner la ruta relativa a la carpeta \"datos\".\n",
    "3. Usar if... else para evitar que se nos pare el código.\n",
    "4. Para cambiar el fichero podréis usar el comando input para preguntar el usuario donde está el fichero y que se pueda usar la ruta relativa o absoluta."
   ]
  },
  {
   "cell_type": "code",
   "execution_count": null,
   "metadata": {},
   "outputs": [],
   "source": []
  },
  {
   "cell_type": "code",
   "execution_count": null,
   "metadata": {},
   "outputs": [],
   "source": []
  }
 ],
 "metadata": {
  "kernelspec": {
   "display_name": "base",
   "language": "python",
   "name": "python3"
  },
  "language_info": {
   "codemirror_mode": {
    "name": "ipython",
    "version": 3
   },
   "file_extension": ".py",
   "mimetype": "text/x-python",
   "name": "python",
   "nbconvert_exporter": "python",
   "pygments_lexer": "ipython3",
   "version": "3.9.7"
  },
  "orig_nbformat": 4
 },
 "nbformat": 4,
 "nbformat_minor": 2
}
