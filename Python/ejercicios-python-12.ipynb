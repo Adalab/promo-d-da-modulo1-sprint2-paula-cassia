{
 "cells": [
  {
   "attachments": {},
   "cell_type": "markdown",
   "metadata": {},
   "source": [
    "# Leccion 12: Ficheros\n",
    "\n",
    "## Creación de carpetas y movimientos entre ellas\n",
    "\n",
    "---------------------------------- PRIMERA FUNCIÓN -----------------------\n",
    "\n",
    "Esta función debe incluir el código que:\n",
    "\n",
    "1. Nos muestre en que carpeta estamos trabajando.\n",
    "2. Cree una carpeta que se llame \"aprendiendo-ficheros\". ⚠️ Tened en cuenta que si la carpeta ya existe no la podemos crear, nos devolverá un error. Incluye en la función un programa que evite que nos de un error si la carpeta ya existe.\n",
    "3. Cree otra carpeta que se llame \"datos\" dentro de la carpeta \"aprendiendo-ficheros\". En esta carpeta \"datos\" guardaremos el fichero \"saludo.txt\" que os habéis descargado.\n",
    "4. Cambiad el directorio de trabajo a la carpeta \"datos\". Antes de seguir chequead que estáis trabajando en la carpeta \"datos\".\n",
    "5. Cambiad el nombre de la carpeta creada en el punto 2 a \"primera-toma-contacto\"\n",
    "\n",
    "💡 Pistas para resolver este ejercicio 💡 Esta función debe incluir el código que:\n",
    "\n",
    "1. La función tendrá que recibir 3 parámetros:\n",
    "        - El nombre del nombre de la primera carpeta\n",
    "        - El nombre de la carpeta segunda carpeta\n",
    "        - El nombre con el que queramos cambiar el nombre de la primera carpeta creada\n",
    "2. Para saber si las carpetas ya existen tendréis que usar lstdir(recordad que nos devuelve una lista de ficheros y carpetas).\n",
    "3. Para poder controlar los errores tendremos que usar un if loop, que si el fichero existe, nos devuelva un mensaje de que el fichero ya existe. En caso de que no exista, los deberéis crear y que la función nos muestre un mensaje de que se ha creado.\n",
    "4. Tendréis que ir cambiando de directorio para poder crear las carpetas y cambiar sus nombres."
   ]
  },
  {
   "cell_type": "code",
   "execution_count": 1,
   "metadata": {},
   "outputs": [],
   "source": [
    "import os"
   ]
  },
  {
   "cell_type": "code",
   "execution_count": 12,
   "metadata": {},
   "outputs": [],
   "source": [
    "def carpetas(nombre_carpeta1, nombre_carpeta2, cambio_nombre):\n",
    "    print(\"Ubicacion al comenzar:\", os.getcwd())\n",
    "     # comprobamos si la carpeta que se quiere crear existe o no\n",
    "    if nombre_carpeta1 in os.listdir():\n",
    "        # si ya existe se imprime un mensaje de error\n",
    "        print(f\"No se puede crear la carpeta {nombre_carpeta1} porque ya existe en esta ubicación.\")        \n",
    "    else:\n",
    "        # si no existe, se puede crear la primera carpeta\n",
    "        os.mkdir(nombre_carpeta1)\n",
    "        print(f\"Se ha creado la carpeta {nombre_carpeta1}\")\n",
    "        # creamos la segunda carpeta dentro de la primera\n",
    "        os.mkdir(f\"{nombre_carpeta1}/{nombre_carpeta2}\")\n",
    "        print(f\"Se ha creado la carpeta {nombre_carpeta2}\")\n",
    "        # renombramos la primera carpeta: no conseguimos hacer que el codigo funcione sin poner la ruta entera\n",
    "        os.rename(f\"/mnt/c/Users/Master/Desktop/Adalab/Modulo1/Pair_programming/Sprint2/promo-d-da-modulo1-sprint2-paula-cassia/Python/{nombre_carpeta1}\", f\"/mnt/c/Users/Master/Desktop/Adalab/Modulo1/Pair_programming/Sprint2/promo-d-da-modulo1-sprint2-paula-cassia/Python/{cambio_nombre}\")\n",
    "        print(f\"Se ha renombrado {nombre_carpeta1} a {cambio_nombre}\")\n",
    "        # nos metemos en la segunda carpeta nueva\n",
    "        os.chdir(f\"{cambio_nombre}/{nombre_carpeta2}\")\n",
    "        # imprimimos la ubicacion\n",
    "        print(\"La ruta de su ubicacion actual es:\", os.getcwd())\n",
    "    "
   ]
  },
  {
   "cell_type": "code",
   "execution_count": 10,
   "metadata": {},
   "outputs": [
    {
     "name": "stdout",
     "output_type": "stream",
     "text": [
      "/mnt/c/Users/Master/Desktop/Adalab/Modulo1/Pair_programming/Sprint2/promo-d-da-modulo1-sprint2-paula-cassia/Python\n",
      "Se ha creado la carpeta aprendiendo-ficheros\n",
      "Se ha creado la carpeta datos\n",
      "Se ha renombrado aprendiendo-ficheros a primera-toma-contacto\n",
      "La ruta de su ubicacion actual es: /mnt/c/Users/Master/Desktop/Adalab/Modulo1/Pair_programming/Sprint2/promo-d-da-modulo1-sprint2-paula-cassia/Python/primera-toma-contacto/datos\n"
     ]
    }
   ],
   "source": [
    "carpetas(\"aprendiendo-ficheros\", \"datos\", \"primera-toma-contacto\")"
   ]
  },
  {
   "attachments": {},
   "cell_type": "markdown",
   "metadata": {},
   "source": [
    "---------------------------------- SEGUNDA FUNCIÓN -----------------------\n",
    "\n",
    "📌 Antes de empezar, recordad descargaros el fichero saludo.txt y guardarlo en el repo en el que estáis trabajando, dentro de una carpeta que se llame \"datos\".\n",
    "1. Lea el fichero que se llame \"saludo.txt y muestre su contenido completo.\n",
    "2. Muestra la línea 4 del fichero\n",
    "\n",
    "💡 Pistas para resolver este ejercicio 💡\n",
    "\n",
    "1. Antes de empezar, tendréis que saber cuál es vuestro directorio de trabajo.\n",
    "2. Tened en cuenta en que carpeta estáis. Si vuestro directorio de trabajo no es \"datos\" tendréis que cambiarlo o poner la ruta relativa a la carpeta \"datos\".\n",
    "3. Usar if... else para evitar que se nos pare el código.\n",
    "4. Para cambiar el fichero podréis usar el comando input para preguntar el usuario donde está el fichero y que se pueda usar la ruta relativa o absoluta."
   ]
  },
  {
   "cell_type": "code",
   "execution_count": 11,
   "metadata": {},
   "outputs": [
    {
     "name": "stdout",
     "output_type": "stream",
     "text": [
      "/mnt/c/Users/Master/Desktop/Adalab/Modulo1/Pair_programming/Sprint2/promo-d-da-modulo1-sprint2-paula-cassia/Python/primera-toma-contacto/datos\n"
     ]
    }
   ],
   "source": [
    "print(os.getcwd())"
   ]
  },
  {
   "cell_type": "code",
   "execution_count": null,
   "metadata": {},
   "outputs": [],
   "source": [
    "    if \"primera-toma-contacto\" in ubicacion: \n",
    "        os.chdir(\"datos\")\n",
    "    elif \"Python\" in ubicacion:\n",
    "        os.chdir(f\"primera-toma-contacto/datos\")\n",
    "    elif \"promo-d-da-modulo1-sprint2-paula-cassia\" in ubicacion:\n",
    "        os.chdir(f\"Python/primera-toma-contacto/datos\")"
   ]
  },
  {
   "cell_type": "code",
   "execution_count": 60,
   "metadata": {},
   "outputs": [],
   "source": [
    "def leer_fichero1(nombre_fichero):\n",
    "    # para empezar nos ubicamos\n",
    "    ubicacion = os.getcwd()\n",
    "    print(f\"Ubicacion al comenzar:\", os.getcwd())\n",
    "    # guardamos la ruta del fichero\n",
    "    ubicacion_actual = os.getcwd()\n",
    "    fichero_ruta = ubicacion_actual + \"/\" + nombre_fichero\n",
    "    # abrimos el fichero para leerlo y devolver el contenido\n",
    "    fichero = open(fichero_ruta) \n",
    "    contenido = fichero.read()\n",
    "    print(contenido)\n",
    "    fichero.close()\n",
    "    # abrimos el fichero de nuevo para crear una lista de los contenidos para imprimir la linea 4\n",
    "    fichero = open(fichero_ruta) \n",
    "    contenido_lista = fichero.readlines()\n",
    "    print(contenido_lista[3:3])\n",
    "    fichero.close()"
   ]
  },
  {
   "cell_type": "code",
   "execution_count": 61,
   "metadata": {},
   "outputs": [
    {
     "name": "stdout",
     "output_type": "stream",
     "text": [
      "Ubicacion al comenzar: /mnt/c/Users/Master/Desktop/Adalab/Modulo1/Pair_programming/Sprint2/promo-d-da-modulo1-sprint2-paula-cassia/Python/primera-toma-contacto/datos\n",
      "Hola Adalabers!!!\n",
      "\n",
      "Estamos en la sesión de pair-programming para familiarizarnos con la gestión de carpetas y ficheros desde Python 🙂🌊\n",
      "\n",
      "Esto esta siendo suuuper divertidooooo\n",
      "[]\n"
     ]
    }
   ],
   "source": [
    "leer_fichero1(\"saludo.txt\")"
   ]
  },
  {
   "cell_type": "code",
   "execution_count": 62,
   "metadata": {},
   "outputs": [],
   "source": [
    "def leer_fichero(nombre_fichero):\n",
    "    # para empezar nos ubicamos\n",
    "    ubicacion = os.getcwd()\n",
    "    print(f\"Ubicacion al comenzar:\", os.getcwd())\n",
    "    if \"primera-toma-contacto\" in ubicacion: \n",
    "        os.chdir(\"datos\")\n",
    "    elif \"Python\" in ubicacion:\n",
    "        os.chdir(f\"primera-toma-contacto/datos\")\n",
    "    elif \"promo-d-da-modulo1-sprint2-paula-cassia\" in ubicacion:\n",
    "        os.chdir(f\"Python/primera-toma-contacto/datos\")\n",
    "    # ahora que estamos en la carpeta 'datos' guardamos la ruta del fichero\n",
    "    ubicacion_actual = os.getcwd()\n",
    "    fichero_ruta = ubicacion_actual + \"/\" + nombre_fichero\n",
    "    # abrimos el fichero para leerlo y devolver el contenido\n",
    "    fichero = open(fichero_ruta) \n",
    "    contenido = fichero.read()\n",
    "    print(contenido)\n",
    "    fichero.close()\n",
    "    # abrimos el fichero de nuevo para crear una lista de los contenidos para imprimir la linea 4\n",
    "    fichero = open(fichero_ruta) \n",
    "    contenido_lista = fichero.readlines()\n",
    "    print(contenido_lista[3:3])\n",
    "    fichero.close()\n"
   ]
  },
  {
   "cell_type": "code",
   "execution_count": 63,
   "metadata": {},
   "outputs": [
    {
     "name": "stdout",
     "output_type": "stream",
     "text": [
      "Ubicacion al comenzar: /mnt/c/Users/Master/Desktop/Adalab/Modulo1/Pair_programming/Sprint2/promo-d-da-modulo1-sprint2-paula-cassia/Python/primera-toma-contacto/datos\n"
     ]
    },
    {
     "ename": "FileNotFoundError",
     "evalue": "[Errno 2] No such file or directory: 'datos'",
     "output_type": "error",
     "traceback": [
      "\u001b[0;31m---------------------------------------------------------------------------\u001b[0m",
      "\u001b[0;31mFileNotFoundError\u001b[0m                         Traceback (most recent call last)",
      "\u001b[0;32m/tmp/ipykernel_740/506579984.py\u001b[0m in \u001b[0;36m<module>\u001b[0;34m\u001b[0m\n\u001b[0;32m----> 1\u001b[0;31m \u001b[0mleer_fichero\u001b[0m\u001b[0;34m(\u001b[0m\u001b[0;34m\"saludo.txt\"\u001b[0m\u001b[0;34m)\u001b[0m\u001b[0;34m\u001b[0m\u001b[0;34m\u001b[0m\u001b[0m\n\u001b[0m",
      "\u001b[0;32m/tmp/ipykernel_740/3669698661.py\u001b[0m in \u001b[0;36mleer_fichero\u001b[0;34m(nombre_fichero)\u001b[0m\n\u001b[1;32m      4\u001b[0m     \u001b[0mprint\u001b[0m\u001b[0;34m(\u001b[0m\u001b[0;34mf\"Ubicacion al comenzar:\"\u001b[0m\u001b[0;34m,\u001b[0m \u001b[0mos\u001b[0m\u001b[0;34m.\u001b[0m\u001b[0mgetcwd\u001b[0m\u001b[0;34m(\u001b[0m\u001b[0;34m)\u001b[0m\u001b[0;34m)\u001b[0m\u001b[0;34m\u001b[0m\u001b[0;34m\u001b[0m\u001b[0m\n\u001b[1;32m      5\u001b[0m     \u001b[0;32mif\u001b[0m \u001b[0;34m\"primera-toma-contacto\"\u001b[0m \u001b[0;32min\u001b[0m \u001b[0mubicacion\u001b[0m\u001b[0;34m:\u001b[0m\u001b[0;34m\u001b[0m\u001b[0;34m\u001b[0m\u001b[0m\n\u001b[0;32m----> 6\u001b[0;31m         \u001b[0mos\u001b[0m\u001b[0;34m.\u001b[0m\u001b[0mchdir\u001b[0m\u001b[0;34m(\u001b[0m\u001b[0;34m\"datos\"\u001b[0m\u001b[0;34m)\u001b[0m\u001b[0;34m\u001b[0m\u001b[0;34m\u001b[0m\u001b[0m\n\u001b[0m\u001b[1;32m      7\u001b[0m     \u001b[0;32melif\u001b[0m \u001b[0;34m\"Python\"\u001b[0m \u001b[0;32min\u001b[0m \u001b[0mubicacion\u001b[0m\u001b[0;34m:\u001b[0m\u001b[0;34m\u001b[0m\u001b[0;34m\u001b[0m\u001b[0m\n\u001b[1;32m      8\u001b[0m         \u001b[0mos\u001b[0m\u001b[0;34m.\u001b[0m\u001b[0mchdir\u001b[0m\u001b[0;34m(\u001b[0m\u001b[0;34mf\"primera-toma-contacto/datos\"\u001b[0m\u001b[0;34m)\u001b[0m\u001b[0;34m\u001b[0m\u001b[0;34m\u001b[0m\u001b[0m\n",
      "\u001b[0;31mFileNotFoundError\u001b[0m: [Errno 2] No such file or directory: 'datos'"
     ]
    }
   ],
   "source": [
    "leer_fichero(\"saludo.txt\")"
   ]
  },
  {
   "attachments": {},
   "cell_type": "markdown",
   "metadata": {},
   "source": [
    "## Lectura y escritura de ficheros\n",
    "\n",
    "1. Lectura y escritura de ficheros\n",
    "- La función debe recibir 4 parámetros:\n",
    "- Nombre del fichero, incluyendo la extensión.\n",
    "- Como queremos leer el fichero.\n",
    "- El encoding del fichero.\n",
    "- El contenido que queremos escribir en el fichero.\n",
    "2. Condiciones de la función:\n",
    "- Si el fichero no existe, debe crearlo, insertar contenido y mostrar su contenido.\n",
    "- Si el fichero existe pregunta al usuario si quiere sobreescribirlo. En caso de Si, sobreescribe el fichero, insertad contenido y leedlo. En caso de No, no hace nada.\n",
    "\n",
    "💡 Pistas 💡\n",
    "- Para chequear si un fichero existe, podemos usar la función os.listdir() que devuelve una lista con los nombres de los - ficheros que hay en un directorio.\n",
    "- Para crear un fichero, podemos usar la función open() que recibe como parámetros el nombre del fichero, el modo de apertura y el encoding.\n",
    "- Para chequear si el fichero existe debéis usar los for loops y el método in para comprobar si el nombre del fichero está en la lista de ficheros.\n",
    "- Usar un input para preguntar al usuario si quiere sobreescribir el fichero.\n",
    "- Para sobreescribir el fichero, podemos usar la función open() que recibe como parámetros el nombre del fichero, el modo de apertura y el encoding.\n",
    "- Strings que cubren más que una línea tienen que ser iniciados y cerrados con tres comillas \"\"\"."
   ]
  },
  {
   "cell_type": "code",
   "execution_count": null,
   "metadata": {},
   "outputs": [],
   "source": []
  },
  {
   "attachments": {},
   "cell_type": "markdown",
   "metadata": {},
   "source": [
    "## Archivos XML\n",
    "\n",
    "En este ejercicio tendréis que crear una función que reciba el nombre del archivo xml y que devuelva lo siguiente:\n",
    "- Qué tag y atributos tiene el archivo xml.\n",
    "- La descripción de cada una de las películas que tenemos en ese archivo.\n",
    "- Los años en que fueron estrenadas las películas.\n",
    "\n",
    "💡 Pistas 💡\n",
    "- La función debe recibir un parámetro, el nombre del archivo xml.\n",
    "- Tendréis que utlizar un bucle for para recorrer todo el archivo xml y extraer la información que os pedimos.\n",
    "- Recordad el método .text para extraer el texto de un elemento."
   ]
  },
  {
   "cell_type": "code",
   "execution_count": null,
   "metadata": {},
   "outputs": [],
   "source": []
  }
 ],
 "metadata": {
  "kernelspec": {
   "display_name": "base",
   "language": "python",
   "name": "python3"
  },
  "language_info": {
   "codemirror_mode": {
    "name": "ipython",
    "version": 3
   },
   "file_extension": ".py",
   "mimetype": "text/x-python",
   "name": "python",
   "nbconvert_exporter": "python",
   "pygments_lexer": "ipython3",
   "version": "3.9.7"
  },
  "orig_nbformat": 4
 },
 "nbformat": 4,
 "nbformat_minor": 2
}
