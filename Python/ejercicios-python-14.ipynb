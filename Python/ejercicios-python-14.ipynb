{
 "cells": [
  {
   "attachments": {},
   "cell_type": "markdown",
   "metadata": {},
   "source": [
    "# Leccion 14: Python & SQL 2\n",
    "\n",
    "Durante la clase de pair programming de creación de tablas de SQL nos creamos nuestra primerita BBDD desde cero en Workbench. En el ejercicio de hoy volveremos a crear esa misma BBDD, pero esta vez desde Python.\n",
    "\n",
    "📌 NOTA Utilizad el nombre de la BBDD de mi_primerita_BBDD_Python\n",
    "\n",
    "📌 NOTA Cuando creeis las distintas tablas de vuestra BBDD repetereis la mismas lineas de código una y otra vez. Para evitar esto, crearos una función que nos sirva para crear tablas independientemente del contenido de la tabla. La función recibirá como parámetros:\n",
    "\n",
    "- Contraseña de la conexión al servidor.\n",
    "- Query para crear la tabla.\n",
    "\n",
    "A modo de recap de lo que contenía la BBDD:\n",
    "\n",
    "Tabla Zapatillas: tiene 4 columnas: id, modelo, color, talla con las siguientes características:\n",
    "- idZapatillas: es una clave primaria de tipo int, autoincremental y no nula.\n",
    "- Modelo: es una cadena de caracteres de longitud máxima de 45 caracteres, no nula.\n",
    "- Color: es una cadena de caracteres de longitud máxima de 45 caracteres, no nula.\n",
    "- Talla: es entero, no nula.\n",
    "\n",
    "Tabla Clientes: tiene 9 columnas idcliente, nombre, numero_telefono, email, direccion, ciudad, provincia, pais, codigo_postal con las siguientes características:\n",
    "- idCliente: es una clave primaria de tipo int, autoincremental y no nula.\n",
    "- Nombre: es una cadena de caracteres de longitud máxima de 45 caracteres, no nula.\n",
    "- Numero_telefono: es un entero de longitud máxima de 9 caracteres, no nula.\n",
    "- Email: es una cadena de caracteres de longitud máxima de 45 caracteres, no nula.\n",
    "- Direccion: es una cadena de caracteres de longitud máxima de 45 caracteres, no nula.\n",
    "- Ciudad: es una cadena de caracteres de longitud máxima de 45 caracteres, puede ser nula.\n",
    "- Provincia: es una cadena de caracteres de longitud máxima de 45 caracteres, no nula.\n",
    "- Pais: es una cadena de caracteres de longitud máxima de 45 caracteres, no nula.\n",
    "- Codigo_postal: entero de máxima longitud 9, no nula.\n",
    "\n",
    "Tabla Empleados: tiene 5 columnas idEmpleado, nombre, tienda, salario, fecha_incorporacion con las siguientes características:\n",
    "- idEmpleado: es una clave primaria de tipo int, autoincremental y no nula.\n",
    "- Nombre: es una cadena de caracteres de longitud máxima de 45 caracteres, no nula.\n",
    "- Tienda: es una cadena de caracteres de longitud máxima de 45 caracteres, no nula.\n",
    "- salario: es decimal, puede ser nula.\n",
    "- fecha_incorporacion: es una columna de tipo date, no nula.\n",
    "- Tabla Facturas: tiene 5 columnas idFactura, idEmpleado, idCliente, fecha, total con las siguientes características:\n",
    "- idFactura: es una clave primaria de tipo int, autoincremental y no nula.\n",
    "- idEmpleado: es una clave foránea de tipo int, no nula.\n",
    "- idCliente: es una clave foránea de tipo int, no nula.\n",
    "- idZapatilla: es una clave foránea de tipo int, no nula\n",
    "- Fecha: es una columna de tipo date, no nula.\n",
    "- Total: es decimal, no nula.\n",
    "\n",
    "📌 NOTA En esta última tabla tendremos que incluir todos los CONSTRAINTnecesarios para establecer los relaciones entre las tablas, donde tendremos que especificar:\n",
    "- Foreign Key\n",
    "- References"
   ]
  },
  {
   "cell_type": "code",
   "execution_count": 1,
   "metadata": {},
   "outputs": [],
   "source": [
    "import mysql.connector"
   ]
  },
  {
   "cell_type": "code",
   "execution_count": 3,
   "metadata": {},
   "outputs": [],
   "source": [
    "from mysql.connector import errorcode"
   ]
  },
  {
   "cell_type": "code",
   "execution_count": 25,
   "metadata": {},
   "outputs": [
    {
     "ename": "DatabaseError",
     "evalue": "1007 (HY000): Can't create database 'mi_primerita_bbdd_python'; database exists",
     "output_type": "error",
     "traceback": [
      "\u001b[0;31m---------------------------------------------------------------------------\u001b[0m",
      "\u001b[0;31mMySQLInterfaceError\u001b[0m                       Traceback (most recent call last)",
      "\u001b[0;32m~/anaconda3/lib/python3.9/site-packages/mysql/connector/connection_cext.py\u001b[0m in \u001b[0;36mcmd_query\u001b[0;34m(self, query, raw, buffered, raw_as_string)\u001b[0m\n\u001b[1;32m    607\u001b[0m                 \u001b[0mquery\u001b[0m \u001b[0;34m=\u001b[0m \u001b[0mquery\u001b[0m\u001b[0;34m.\u001b[0m\u001b[0mencode\u001b[0m\u001b[0;34m(\u001b[0m\u001b[0;34m\"utf-8\"\u001b[0m\u001b[0;34m)\u001b[0m\u001b[0;34m\u001b[0m\u001b[0;34m\u001b[0m\u001b[0m\n\u001b[0;32m--> 608\u001b[0;31m             self._cmysql.query(\n\u001b[0m\u001b[1;32m    609\u001b[0m                 \u001b[0mquery\u001b[0m\u001b[0;34m,\u001b[0m\u001b[0;34m\u001b[0m\u001b[0;34m\u001b[0m\u001b[0m\n",
      "\u001b[0;31mMySQLInterfaceError\u001b[0m: Can't create database 'mi_primerita_bbdd_python'; database exists",
      "\nThe above exception was the direct cause of the following exception:\n",
      "\u001b[0;31mDatabaseError\u001b[0m                             Traceback (most recent call last)",
      "\u001b[0;32m/tmp/ipykernel_2255/1860717640.py\u001b[0m in \u001b[0;36m<module>\u001b[0;34m\u001b[0m\n\u001b[1;32m      4\u001b[0m \u001b[0mcursor\u001b[0m \u001b[0;34m=\u001b[0m \u001b[0mcnx\u001b[0m\u001b[0;34m.\u001b[0m\u001b[0mcursor\u001b[0m\u001b[0;34m(\u001b[0m\u001b[0;34m)\u001b[0m\u001b[0;34m\u001b[0m\u001b[0;34m\u001b[0m\u001b[0m\n\u001b[1;32m      5\u001b[0m \u001b[0;34m\u001b[0m\u001b[0m\n\u001b[0;32m----> 6\u001b[0;31m \u001b[0mcursor\u001b[0m\u001b[0;34m.\u001b[0m\u001b[0mexecute\u001b[0m\u001b[0;34m(\u001b[0m\u001b[0;34m\"CREATE DATABASE mi_primerita_BBDD_python\"\u001b[0m\u001b[0;34m)\u001b[0m\u001b[0;34m\u001b[0m\u001b[0;34m\u001b[0m\u001b[0m\n\u001b[0m\u001b[1;32m      7\u001b[0m \u001b[0;34m\u001b[0m\u001b[0m\n",
      "\u001b[0;32m~/anaconda3/lib/python3.9/site-packages/mysql/connector/cursor_cext.py\u001b[0m in \u001b[0;36mexecute\u001b[0;34m(self, operation, params, multi)\u001b[0m\n\u001b[1;32m    328\u001b[0m \u001b[0;34m\u001b[0m\u001b[0m\n\u001b[1;32m    329\u001b[0m         \u001b[0;32mtry\u001b[0m\u001b[0;34m:\u001b[0m\u001b[0;34m\u001b[0m\u001b[0;34m\u001b[0m\u001b[0m\n\u001b[0;32m--> 330\u001b[0;31m             result = self._cnx.cmd_query(\n\u001b[0m\u001b[1;32m    331\u001b[0m                 \u001b[0mstmt\u001b[0m\u001b[0;34m,\u001b[0m\u001b[0;34m\u001b[0m\u001b[0;34m\u001b[0m\u001b[0m\n\u001b[1;32m    332\u001b[0m                 \u001b[0mraw\u001b[0m\u001b[0;34m=\u001b[0m\u001b[0mself\u001b[0m\u001b[0;34m.\u001b[0m\u001b[0m_raw\u001b[0m\u001b[0;34m,\u001b[0m\u001b[0;34m\u001b[0m\u001b[0;34m\u001b[0m\u001b[0m\n",
      "\u001b[0;32m~/anaconda3/lib/python3.9/site-packages/mysql/connector/connection_cext.py\u001b[0m in \u001b[0;36mcmd_query\u001b[0;34m(self, query, raw, buffered, raw_as_string)\u001b[0m\n\u001b[1;32m    614\u001b[0m             )\n\u001b[1;32m    615\u001b[0m         \u001b[0;32mexcept\u001b[0m \u001b[0mMySQLInterfaceError\u001b[0m \u001b[0;32mas\u001b[0m \u001b[0merr\u001b[0m\u001b[0;34m:\u001b[0m\u001b[0;34m\u001b[0m\u001b[0;34m\u001b[0m\u001b[0m\n\u001b[0;32m--> 616\u001b[0;31m             raise get_mysql_exception(\n\u001b[0m\u001b[1;32m    617\u001b[0m                 \u001b[0merr\u001b[0m\u001b[0;34m.\u001b[0m\u001b[0merrno\u001b[0m\u001b[0;34m,\u001b[0m \u001b[0mmsg\u001b[0m\u001b[0;34m=\u001b[0m\u001b[0merr\u001b[0m\u001b[0;34m.\u001b[0m\u001b[0mmsg\u001b[0m\u001b[0;34m,\u001b[0m \u001b[0msqlstate\u001b[0m\u001b[0;34m=\u001b[0m\u001b[0merr\u001b[0m\u001b[0;34m.\u001b[0m\u001b[0msqlstate\u001b[0m\u001b[0;34m\u001b[0m\u001b[0;34m\u001b[0m\u001b[0m\n\u001b[1;32m    618\u001b[0m             ) from err\n",
      "\u001b[0;31mDatabaseError\u001b[0m: 1007 (HY000): Can't create database 'mi_primerita_bbdd_python'; database exists"
     ]
    }
   ],
   "source": [
    "# creamos la BBDD\n",
    "cnx = mysql.connector.connect(user='root', password='AlumnaAdalab', host='127.0.0.1', database = 'mi_primerita_BBDD_python')\n",
    "\n",
    "cursor = cnx.cursor()\n",
    "\n",
    "cursor.execute(\"CREATE DATABASE mi_primerita_BBDD_python\")\n",
    "\n"
   ]
  },
  {
   "attachments": {},
   "cell_type": "markdown",
   "metadata": {},
   "source": [
    "- Tabla Facturas: tiene 5 columnas idFactura, idEmpleado, idCliente, fecha, total con las siguientes características:\n",
    "- idFactura: es una clave primaria de tipo int, autoincremental y no nula.\n",
    "- idEmpleado: es una clave foránea de tipo int, no nula.\n",
    "- idCliente: es una clave foránea de tipo int, no nula.\n",
    "- idZapatilla: es una clave foránea de tipo int, no nula\n",
    "- Fecha: es una columna de tipo date, no nula.\n",
    "- Total: es decimal, no nula."
   ]
  },
  {
   "cell_type": "code",
   "execution_count": 36,
   "metadata": {},
   "outputs": [],
   "source": [
    "query_zapatillas = 'CREATE TABLE zapatillas (id_zapatillas INT AUTO_INCREMENT NOT NULL PRIMARY KEY, modelo VARCHAR(45) NOT NULL, color VARCHAR(45) NOT NULL, talla INT NOT NULL)'\n",
    "\n",
    "query_clientes = 'CREATE TABLE clientes (id_cliente INT AUTO_INCREMENT NOT NULL PRIMARY KEY, nombre VARCHAR(45) NOT NULL, numero_telefono INT(9) NOT NULL, email VARCHAR(45) NOT NULL, direccion VARCHAR(45) NOT NULL, ciudad VARCHAR(45), provincia VARCHAR(45) NOT NULL, pais VARCHAR(45) NOT NULL, codigo_postal INT(9) NOT NULL)'\n",
    "\n",
    "query_empleados = 'CREATE TABLE empleados (id_empleado INT AUTO_INCREMENT NOT NULL PRIMARY KEY, nombre VARCHAR(45) NOT NULL, tienda VARCHAR(45) NOT NULL, salario FLOAT, fecha_incorporacion DATE NOT NULL)'\n",
    "\n",
    "query_facturas = 'CREATE TABLE facturas (id_factura INT AUTO_INCREMENT NOT NULL PRIMARY KEY, id_empleado INT NOT NULL, id_cliente INT NOT NULL, id_zapatilla INT NOT NULL, fecha DATE NOT NULL, total FLOAT NOT NULL, CONSTRAINT `fk_facturas_empleados` FOREIGN KEY (`id_empleado`) REFERENCES `empleados` (`id_empleado`) ON DELETE CASCADE ON UPDATE CASCADE, CONSTRAINT `fk_facturas_clientes` FOREIGN KEY (`id_cliente`) REFERENCES `clientes` (`id_cliente`) ON DELETE CASCADE ON UPDATE CASCADE, CONSTRAINT `fk_facturas_zapatillas` FOREIGN KEY (`id_zapatilla`) REFERENCES `zapatillas` (`id_zapatillas`) ON DELETE CASCADE ON UPDATE CASCADE)'"
   ]
  },
  {
   "cell_type": "code",
   "execution_count": 27,
   "metadata": {},
   "outputs": [],
   "source": [
    "def creacion_tablas(query):\n",
    "    cnx = mysql.connector.connect(user='root', password='AlumnaAdalab', host='127.0.0.1', database = 'mi_primerita_BBDD_python')\n",
    "    cursor = cnx.cursor()\n",
    "    try:\n",
    "        cursor.execute(query)\n",
    "    except mysql.connector.Error as err:\n",
    "        print(err)\n",
    "        print(\"Error Code:\", err.errno)\n",
    "        print(\"SQLSTATE\", err.sqlstate)\n",
    "        print(\"Message\", err.msg)"
   ]
  },
  {
   "cell_type": "code",
   "execution_count": 37,
   "metadata": {},
   "outputs": [],
   "source": [
    "creacion_tablas(query_facturas)"
   ]
  }
 ],
 "metadata": {
  "kernelspec": {
   "display_name": "base",
   "language": "python",
   "name": "python3"
  },
  "language_info": {
   "codemirror_mode": {
    "name": "ipython",
    "version": 3
   },
   "file_extension": ".py",
   "mimetype": "text/x-python",
   "name": "python",
   "nbconvert_exporter": "python",
   "pygments_lexer": "ipython3",
   "version": "3.9.7"
  },
  "orig_nbformat": 4
 },
 "nbformat": 4,
 "nbformat_minor": 2
}
