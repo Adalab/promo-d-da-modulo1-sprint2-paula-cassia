{
 "cells": [
  {
   "cell_type": "markdown",
   "metadata": {},
   "source": [
    "## Leccion 9 Funciones Argumentos\n",
    "\n",
    "### Ejercicio 1\n",
    "Vamos a crear una \"Calculadora de puntos\". Tenéis que escribir una calculadora que reciba cadenas de caracteres como entrada. Los puntos representarán el número de la ecuación. Habrá puntos en un lado, un operador, y puntos de nuevo después del oparador. Los puntos y el operador estarán separados por un espacio.\n",
    "Aquí os dejamos los operadores válidos:\n",
    "- Suma\n",
    "- Resta\n",
    "- Multiplicación\n",
    "- División entera\n",
    "\n",
    "Vuestro trabajo\n",
    "Tendréis que devolver un string que contenga puntos, tantos como devuelva la ecuación. Si el resultado es 0, devuelve la cadena vacía. Cuando se trata de una resta, el primer número siempre será mayor o igual que el segundo.\n",
    "\n",
    "```python\n",
    "Probad la función con los siguientes casos: \n",
    "\n",
    "\"..... + ...............\" => \"....................\"\n",
    "\"..... - ...\" => \"..\"\n",
    "\"..... * ...\" => \"...............\"\n",
    "\"..... // ..\" => \"..\"\n",
    "\". // ..\" => \"\"\n",
    "\".. - ..\" => \"\"\n",
    "```"
   ]
  },
  {
   "cell_type": "code",
   "execution_count": 38,
   "metadata": {},
   "outputs": [],
   "source": [
    "\n",
    "# \"..... + ...............\" => \"....................\"\n",
    "# \"..... - ...\" => \"..\"\n",
    "#\"..... * ...\" => \"...............\"\n",
    "#\"..... // ..\" => \"..\"\n",
    "#\". // ..\" => \"\"\n",
    "#\".. - ..\" => \"\"\n",
    "\n",
    "def calculadora_puntos(string):\n",
    "    if \"+\" in string:\n",
    "        indice_operador = string.index(\"+\")\n",
    "        resultado_operacion1 = string[:indice_operador - 1] + string[indice_operador + 2:]\n",
    "        return resultado_operacion1\n",
    "    elif \"-\" in string:\n",
    "        indice_operador = string.index(\"-\")\n",
    "        resultado_operacion2 = (string[:indice_operador - 1].count(\".\") - string[indice_operador + 2:].count(\".\")) * \".\"\n",
    "        return resultado_operacion2  \n",
    "    elif \"*\" in string:\n",
    "        indice_operador = string.index(\"*\")\n",
    "        resultado_operacion3 = string[:indice_operador - 1] * string[indice_operador + 2:].count(\".\")\n",
    "        return resultado_operacion3\n",
    "    elif \"//\" in string:\n",
    "        indice_operador = string.index(\"//\")\n",
    "        resultado_operacion4 = (string[:indice_operador - 1].count(\".\") // string[indice_operador + 2:].count(\".\")) * \".\"\n",
    "\n",
    "        return resultado_operacion4\n",
    "        \n",
    "       "
   ]
  },
  {
   "cell_type": "code",
   "execution_count": 42,
   "metadata": {},
   "outputs": [
    {
     "name": "stdout",
     "output_type": "stream",
     "text": [
      "....................\n",
      "..\n",
      "...............\n",
      "..\n",
      "\n",
      "\n"
     ]
    },
    {
     "data": {
      "text/plain": [
       "str"
      ]
     },
     "execution_count": 42,
     "metadata": {},
     "output_type": "execute_result"
    }
   ],
   "source": [
    "resultado1 = calculadora_puntos(\"..... + ...............\")\n",
    "print(resultado1)\n",
    "\n",
    "resultado2 = calculadora_puntos(\"..... - ...\")\n",
    "print(resultado2)\n",
    "\n",
    "resultado3 = calculadora_puntos(\"..... * ...\")\n",
    "print(resultado3)\n",
    "\n",
    "resultado4 = calculadora_puntos(\"..... // ..\")\n",
    "print(resultado4)\n",
    "\n",
    "resultado5 = calculadora_puntos(\".. - ..\")\n",
    "print(resultado5)\n",
    "type(resultado5)\n",
    "\n",
    "resultado6 = calculadora_puntos(\". // ..\")\n",
    "print(resultado6)\n",
    "type(resultado6)\n"
   ]
  },
  {
   "cell_type": "markdown",
   "metadata": {},
   "source": [
    "### Ejercicio 2. \n",
    "Te despides de tu mejor amigo, \"Nos vemos el próximo año\".\n",
    "Vuestro trabajo: Dado un año, encuentra el próximo cumpleaños o el año más cercano en el que verás a tu mejor amigo.\n",
    "Condiciones\n",
    "- Año siempre positivo.\n",
    "- El siguiente año que le felicites a tu mejor amigo no puede tener ningún dígito repetido.\n",
    "```python\n",
    "Probad la función con los siguientes casos:\n",
    "\n",
    "7712 ==> El siguiente año que felicitarás a tu amigo será el 7801. \n",
    "Por que es el siguiente año en el que no hay ninguún dígito repetido. \n",
    "\n",
    "\n",
    "1001 => 1023 \n",
    "\n",
    "1123 => 1203\n",
    "\n",
    "2001 => 2013\n",
    "```"
   ]
  },
  {
   "cell_type": "code",
   "execution_count": 2,
   "metadata": {},
   "outputs": [
    {
     "name": "stdout",
     "output_type": "stream",
     "text": [
      "7801\n",
      "1023\n",
      "1203\n",
      "2013\n"
     ]
    }
   ],
   "source": [
    "def proximo_año(año):\n",
    "    for i in range(año,10000):\n",
    "        string_año = str(i)\n",
    "        if (string_año.count(string_año[1])+string_año.count(string_año[2])+string_año.count(string_año[3])+string_año.count(string_año[0])) == 4:\n",
    "            return string_año\n",
    "\n",
    "print(proximo_año(7712))\n",
    "print(proximo_año(1001))\n",
    "print(proximo_año(1123))\n",
    "print(proximo_año(2001))"
   ]
  },
  {
   "cell_type": "markdown",
   "metadata": {},
   "source": [
    "### Ejercicio 3\n",
    "Tenéis que crear un función que chequee la vida de un evaporador que contiene un gas.\n",
    "Conocemos el contenido del evaporador (contenido en ml), el porcentaje de gas que se pierde cada día y el umbral en porcentaje a partir del cual el evaporador deja de ser útil. Todos los números serán estrictamente positivos.\n",
    "⚠️ Nota: el contenido no es, de hecho, necesario en el cuerpo de la función, podéis utilizarlo o no.\n",
    "```python\n",
    "Probad con los siguientes casos: \n",
    "\n",
    "10, 10, 5 => 29\n",
    "\n",
    "10, 10, 10 = > 22\n",
    "```"
   ]
  },
  {
   "cell_type": "code",
   "execution_count": 3,
   "metadata": {},
   "outputs": [],
   "source": [
    "def vida_evaporador(contenido_actual,porcentaje_perdido,porcentaje_minimo):\n",
    "    umbral = contenido_actual * (porcentaje_minimo / 100)\n",
    "    contenido = contenido_actual\n",
    "    dia = 0\n",
    "    while contenido > umbral:\n",
    "        dia += 1\n",
    "        contenido -= (contenido * (porcentaje_perdido / 100))\n",
    "    return(f\"Le quedan {dia} dias de vida al evaporador.\")"
   ]
  },
  {
   "cell_type": "code",
   "execution_count": 4,
   "metadata": {},
   "outputs": [
    {
     "data": {
      "text/plain": [
       "'Le quedan 29 dias de vida al evaporador.'"
      ]
     },
     "execution_count": 4,
     "metadata": {},
     "output_type": "execute_result"
    }
   ],
   "source": [
    "vida_util = vida_evaporador(10,10,5)\n",
    "vida_util"
   ]
  },
  {
   "cell_type": "markdown",
   "metadata": {},
   "source": [
    "### Ejercicio 4\n",
    "Definid una función que tome como argumento un entero y devuelva True o False dependiendo de si el número es primo o no.\n",
    "Según la Wikipedia, un número primo es un número natural mayor que 1 que no tiene divisores positivos más que 1 y él mismo.\n",
    "```python\n",
    "Probad la función con los siguientes números: \n",
    "\n",
    "0 => False\n",
    "2 => True\n",
    "73 => True\n",
    "-1 => False\n",
    "5099 => True\n",
    "```"
   ]
  },
  {
   "cell_type": "code",
   "execution_count": 24,
   "metadata": {},
   "outputs": [],
   "source": [
    "def numero_primo(numero):\n",
    "    resultado = True\n",
    "    if numero < 1:\n",
    "        resultado = False\n",
    "    else:\n",
    "        for x in range(2,numero - 1):\n",
    "            if numero % x == 0:\n",
    "                resultado = False\n",
    "    return resultado"
   ]
  },
  {
   "cell_type": "code",
   "execution_count": 25,
   "metadata": {},
   "outputs": [
    {
     "name": "stdout",
     "output_type": "stream",
     "text": [
      "False\n",
      "True\n",
      "True\n",
      "False\n",
      "True\n"
     ]
    }
   ],
   "source": [
    "print(numero_primo(0))\n",
    "print(numero_primo(2))\n",
    "print(numero_primo(73))\n",
    "print(numero_primo(-1))    \n",
    "print(numero_primo(5099))        \n"
   ]
  },
  {
   "cell_type": "markdown",
   "metadata": {},
   "source": [
    "### Ejercicio 5\n",
    "Probablemente conozcais el sistema de \"me gusta\" de Facebook y otras páginas. La gente puede dar \"me gusta\" a las publicaciones del blog, a las imágenes o a otros elementos. Queremos crear el texto que debe mostrarse junto a dicho elemento.\n",
    "Cread una función que toma una lista que contiene los nombres de las personas a las que les gusta un artículo. Debe devolver el texto que se muestra en los ejemplos:\n",
    "```python\n",
    "Probad los siguientes ejemplos: \n",
    "\n",
    "[]                              -->  \"A nadie le gusta esto\"\n",
    "[\"Paola\"]                       -->  \"A Paola le gusta esto\"\n",
    "[\"Jacoba\", \"Alex\"]               -->  \"A Jacoba y Alex les gusta esto\"\n",
    "[\"Maria\", \"Juana\", \"Lola\"]         -->  \"A Maria, Juana y Lola les gusta esto\"\n",
    "[\"Alex\", \"Jacoba\", \"Lola\", \"Carmen\"]-->  \"A Alex, Jacob ay 2 más les gusta esto\"\n",
    "[\"Alex\", \"Jacoba\", \"Lola\", \"Carmen\", \"Mariana\"]-->  \"A Alex, Jacoba y 3 más les gusta esto\"\n",
    "```"
   ]
  },
  {
   "cell_type": "code",
   "execution_count": 51,
   "metadata": {},
   "outputs": [],
   "source": [
    "def me_gusta(*args):\n",
    "    if len(args) == 0:\n",
    "        return \"A nadie le gusta esto\"\n",
    "    elif len(args) == 1:\n",
    "        return f\"A {args[0]} le gusta esto\"\n",
    "    elif len(args) == 2:\n",
    "        return f\"A {args[0]} y {args[1]} le gusta esto\"\n",
    "    elif len(args) == 3:\n",
    "        return f\"A {args[0]}, {args[1]} y {args[2]} le gusta esto\"\n",
    "    elif len(args) >= 4:\n",
    "        return f\"A {args[0]}, {args[1]} y {len(args) - 2} más le gusta esto\"   \n",
    "    "
   ]
  },
  {
   "cell_type": "code",
   "execution_count": 52,
   "metadata": {},
   "outputs": [
    {
     "name": "stdout",
     "output_type": "stream",
     "text": [
      "A nadie le gusta esto\n",
      "A Paola le gusta esto\n",
      "A Jacoba y Alex le gusta esto\n",
      "A Maria, Juana y Lola le gusta esto\n",
      "A Alex, Jacoba y 2 más le gusta esto\n",
      "A Alex, Jacoba y 3 más le gusta esto\n"
     ]
    }
   ],
   "source": [
    "print(me_gusta(*[]))\n",
    "\n",
    "print(me_gusta(*[\"Paola\"]))\n",
    "\n",
    "print(me_gusta(*[\"Jacoba\", \"Alex\"]))\n",
    "\n",
    "print(me_gusta(*[\"Maria\", \"Juana\", \"Lola\"]))\n",
    "\n",
    "print(me_gusta(*[\"Alex\", \"Jacoba\", \"Lola\", \"Carmen\"]))\n",
    "\n",
    "print(me_gusta(*[\"Alex\", \"Jacoba\", \"Lola\", \"Carmen\", \"Mariana\"]))"
   ]
  }
 ],
 "metadata": {
  "kernelspec": {
   "display_name": "base",
   "language": "python",
   "name": "python3"
  },
  "language_info": {
   "codemirror_mode": {
    "name": "ipython",
    "version": 3
   },
   "file_extension": ".py",
   "mimetype": "text/x-python",
   "name": "python",
   "nbconvert_exporter": "python",
   "pygments_lexer": "ipython3",
   "version": "3.9.7"
  },
  "orig_nbformat": 4
 },
 "nbformat": 4,
 "nbformat_minor": 2
}
