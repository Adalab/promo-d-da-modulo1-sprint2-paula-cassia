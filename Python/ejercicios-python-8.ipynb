{
 "cells": [
  {
   "attachments": {},
   "cell_type": "markdown",
   "metadata": {},
   "source": [
    "## Pair Programming - Python 8: Funciones\n",
    "\n",
    "### Ejercicio 1\n",
    "\n",
    "Cread una función que reciba 2 números enteros en forma de string como entrada, y dé como resultado la suma (también en forma de string)\n",
    "Condiciones:\n",
    "- Si los dos parámetros que recibe la función son strings vacíos la función nos debe devolver \"0\"\n",
    "- Si el primer parámetro es un string vacío, la función nos devuelve el valor del segundo parámetro y viceversa.\n",
    "\n",
    "```python\n",
    "Probad la función para las siguientes combinaciones de \"números\"\n",
    "\n",
    "Parámetros que recibe la función: \"4\",  \"5\" --> Output esperado: \"9\"\n",
    "Parámetros que recibe la función: \"34\", \"5\" --> Output esperado: \"39\"\n",
    "Parámetros que recibe la función: \"\", \"\" --> Output esperado: \"0\"\n",
    "Parámetros que recibe la función: \"2\", \"\" --> Output esperado: \"2\"\n",
    "Parámetros que recibe la función: \"-5\", \"3\" --> Output esperado: \"-2\"\n",
    "```"
   ]
  },
  {
   "cell_type": "code",
   "execution_count": 11,
   "metadata": {},
   "outputs": [
    {
     "name": "stdout",
     "output_type": "stream",
     "text": [
      "9\n",
      "39\n",
      "0\n",
      "2\n",
      "-2\n"
     ]
    }
   ],
   "source": [
    "def suma_strings(a,b):\n",
    "    if a == \"\":\n",
    "        a = 0\n",
    "    if b == \"\":\n",
    "        b = 0\n",
    "    suma = int(a) + int(b)\n",
    "    return suma\n",
    "\n",
    "print(suma_strings(\"4\", \"5\"))\n",
    "print(suma_strings(\"34\", \"5\"))\n",
    "print(suma_strings(\"\", \"\"))\n",
    "print(suma_strings(\"2\", \"\"))\n",
    "print(suma_strings(\"-5\", \"3\"))\n",
    "        "
   ]
  },
  {
   "attachments": {},
   "cell_type": "markdown",
   "metadata": {},
   "source": [
    "### Ejercicio 2\n",
    "El objetivo es comparar cada par de enteros de 2 listas, y devolver una nueva lista con el número mayor de la comapración..\n",
    "\n",
    "```python\n",
    "Probad la función para las siguientes listas: \n",
    "arr1 = [13, 64, 15, 17, 88]\n",
    "arr2 = [23, 14, 53, 17, 80]\n",
    "resultado = [23, 64, 53, 17, 88]\n",
    "```\n",
    "Pista: En Python existe el método zip."
   ]
  },
  {
   "cell_type": "code",
   "execution_count": 14,
   "metadata": {},
   "outputs": [
    {
     "data": {
      "text/plain": [
       "[23, 64, 53, 17, 88]"
      ]
     },
     "execution_count": 14,
     "metadata": {},
     "output_type": "execute_result"
    }
   ],
   "source": [
    "arr1 = [13, 64, 15, 17, 88]\n",
    "arr2 = [23, 14, 53, 17, 80]\n",
    "resultado = []\n",
    "\n",
    "\n",
    "def compar_par(arr1, arr2):\n",
    "    lista_arr = list(zip(arr1, arr2))\n",
    "    for i in lista_arr:\n",
    "        if i[0] > i[1]:\n",
    "            resultado.append(i[0])\n",
    "        else:\n",
    "            resultado.append(i[1])\n",
    "    return resultado\n",
    "\n",
    "compar_par(arr1, arr2)\n",
    "        "
   ]
  },
  {
   "attachments": {},
   "cell_type": "markdown",
   "metadata": {},
   "source": [
    "### Ejercicio 3\n",
    "El objetivo de este ejercicio es convertir un string en un nuevo string en el que cada carácter del nuevo string es \"(\" si ese carácter aparece sólo una vez en el string original, o \")\" si ese carácter aparece más de una vez en el string. Nuestro código no tiene que ser case sensitive, es decir, si hay una letra en mayúscula y en minúscula cuenta como dos apariciones.\n",
    "```python\n",
    "Probad la función para los siguientes strings \n",
    "\n",
    "\"din\"      =>  \"(((\"\n",
    "\"recede\"   =>  \"()()()\"\n",
    "\"Success\"  =>  \")())())\"\n",
    "\"(( @\"     =>  \"))((\" \n",
    "\"Ocvl@GamFLAFkixkS\" => \"((()(()()))))(()(\"\n",
    "```"
   ]
  },
  {
   "cell_type": "code",
   "execution_count": 21,
   "metadata": {},
   "outputs": [
    {
     "name": "stdout",
     "output_type": "stream",
     "text": [
      "din convertido en parentesis es  (((\n",
      "recede convertido en parentesis es  ()()()\n",
      "Success convertido en parentesis es  )())())\n",
      "(( @ convertido en parentesis es  ))((\n",
      "Ocvl@GamFLAFkixkS convertido en parentesis es  ((()(()()))))(()(\n"
     ]
    }
   ],
   "source": [
    "lista_strings = [\"din\", \"recede\", \"Success\", \"(( @\", \"Ocvl@GamFLAFkixkS\"]\n",
    "\n",
    "def new_string(caracteres):\n",
    "    new_string_list = []\n",
    "    for x in caracteres:\n",
    "        if caracteres.lower().count(x.lower()) > 1:\n",
    "            new_string_list.append(\")\")\n",
    "        else:\n",
    "            new_string_list.append(\"(\")\n",
    "    return \"\".join(new_string_list)\n",
    "\n",
    "for i in lista_strings:\n",
    "    print(f\"{i} convertido en parentesis es  {new_string(i)}\")"
   ]
  },
  {
   "attachments": {},
   "cell_type": "markdown",
   "metadata": {},
   "source": [
    "### BONUS: Ejercicio 4\n",
    "\n",
    "A Pete le gusta hacer pasteles. Tiene algunas recetas e ingredientes. Desgraciadamente, no se le dan bien las matemáticas. ¿Puedes ayudarle a averiguar cuántas tartas puede hacer teniendo en cuenta sus recetas?\n",
    "\n",
    "```python\n",
    "Escribid una función,  que tome la receta (diccionario) y los ingredientes disponibles (también un diccionario) y devuelva el número máximo de pasteles que Pete puede hornear (entero). Para simplificar, no hay unidades para las cantidades (por ejemplo, 1 libra de harina o 200 g de azúcar son simplemente 1 o 200). Los ingredientes que no están presentes en los diccionarios, pueden ser considerados como 0.\n",
    "\n",
    "Probad con los siguientes diccionarios: \n",
    "\n",
    "RECETA {'flour': 500, 'sugar': 200, 'eggs': 1}, \n",
    "INGREDIENTES {'flour': 1200, 'sugar': 1200, 'eggs': 5, 'milk': 200}\n",
    "\n",
    "RESULTADO: 2 \n",
    "----------\n",
    "\n",
    "RECETA {'apples': 3, 'flour': 300, 'sugar': 150, 'milk': 100, 'oil': 100}\n",
    "INGREDIENTES {'sugar': 500, 'flour': 2000, 'milk': 2000}\n",
    "\n",
    "RESULTADO 0\n",
    "``` \n",
    "**Pista**: Nuestra función recibirá dos parámetros. \n",
    "```"
   ]
  },
  {
   "cell_type": "code",
   "execution_count": 11,
   "metadata": {},
   "outputs": [
    {
     "name": "stdout",
     "output_type": "stream",
     "text": [
      "2\n",
      "No se puede hacer el pastel\n"
     ]
    },
    {
     "ename": "ValueError",
     "evalue": "min() arg is an empty sequence",
     "output_type": "error",
     "traceback": [
      "\u001b[0;31m---------------------------------------------------------------------------\u001b[0m",
      "\u001b[0;31mValueError\u001b[0m                                Traceback (most recent call last)",
      "\u001b[0;32m/tmp/ipykernel_2036/2392778790.py\u001b[0m in \u001b[0;36m<module>\u001b[0;34m\u001b[0m\n\u001b[1;32m     16\u001b[0m     \u001b[0;32mreturn\u001b[0m \u001b[0mmin\u001b[0m\u001b[0;34m(\u001b[0m\u001b[0mcantidad_pasteles\u001b[0m\u001b[0;34m)\u001b[0m\u001b[0;34m\u001b[0m\u001b[0;34m\u001b[0m\u001b[0m\n\u001b[1;32m     17\u001b[0m \u001b[0;34m\u001b[0m\u001b[0m\n\u001b[0;32m---> 18\u001b[0;31m \u001b[0mpasteles\u001b[0m\u001b[0;34m(\u001b[0m\u001b[0mreceta2\u001b[0m\u001b[0;34m,\u001b[0m \u001b[0mingredientes2\u001b[0m\u001b[0;34m)\u001b[0m\u001b[0;34m\u001b[0m\u001b[0;34m\u001b[0m\u001b[0m\n\u001b[0m",
      "\u001b[0;32m/tmp/ipykernel_2036/2392778790.py\u001b[0m in \u001b[0;36mpasteles\u001b[0;34m(receta, ingredientes)\u001b[0m\n\u001b[1;32m     14\u001b[0m         \u001b[0;32melse\u001b[0m\u001b[0;34m:\u001b[0m\u001b[0;34m\u001b[0m\u001b[0;34m\u001b[0m\u001b[0m\n\u001b[1;32m     15\u001b[0m             \u001b[0mcantidad_pasteles\u001b[0m\u001b[0;34m.\u001b[0m\u001b[0mappend\u001b[0m\u001b[0;34m(\u001b[0m\u001b[0mingredientes\u001b[0m\u001b[0;34m[\u001b[0m\u001b[0ming\u001b[0m\u001b[0;34m]\u001b[0m \u001b[0;34m//\u001b[0m \u001b[0mreceta\u001b[0m\u001b[0;34m[\u001b[0m\u001b[0ming\u001b[0m\u001b[0;34m]\u001b[0m\u001b[0;34m)\u001b[0m\u001b[0;34m\u001b[0m\u001b[0;34m\u001b[0m\u001b[0m\n\u001b[0;32m---> 16\u001b[0;31m     \u001b[0;32mreturn\u001b[0m \u001b[0mmin\u001b[0m\u001b[0;34m(\u001b[0m\u001b[0mcantidad_pasteles\u001b[0m\u001b[0;34m)\u001b[0m\u001b[0;34m\u001b[0m\u001b[0;34m\u001b[0m\u001b[0m\n\u001b[0m\u001b[1;32m     17\u001b[0m \u001b[0;34m\u001b[0m\u001b[0m\n\u001b[1;32m     18\u001b[0m \u001b[0mpasteles\u001b[0m\u001b[0;34m(\u001b[0m\u001b[0mreceta2\u001b[0m\u001b[0;34m,\u001b[0m \u001b[0mingredientes2\u001b[0m\u001b[0;34m)\u001b[0m\u001b[0;34m\u001b[0m\u001b[0;34m\u001b[0m\u001b[0m\n",
      "\u001b[0;31mValueError\u001b[0m: min() arg is an empty sequence"
     ]
    }
   ],
   "source": [
    "receta1 = {'flour': 500, 'sugar': 200, 'eggs': 1}\n",
    "ingredientes1 = {'flour': 1200, 'sugar': 1200, 'eggs': 5, 'milk': 200}\n",
    "\n",
    "receta2 = {'apples': 3, 'flour': 300, 'sugar': 150, 'milk': 100, 'oil': 100}\n",
    "ingredientes2 = {'sugar': 500, 'flour': 2000, 'milk': 2000}\n",
    "\n",
    "\n",
    "def pasteles(receta, ingredientes):\n",
    "    cantidad_pasteles = []\n",
    "    for ing in receta:\n",
    "        if ing not in ingredientes:\n",
    "            return\"No se puede hacer el pastel\"\n",
    "            break\n",
    "        else:\n",
    "            cantidad_pasteles.append(ingredientes[ing] // receta[ing])\n",
    "    return min(cantidad_pasteles) \n",
    "            \n",
    "pastel1 = pasteles(receta1, ingredientes1)\n",
    "pastel2 = pasteles(receta2 , ingredientes2)\n",
    "\n",
    "print(pastel1)\n",
    "print(pastel2)"
   ]
  },
  {
   "attachments": {},
   "cell_type": "markdown",
   "metadata": {},
   "source": [
    "### BONUS: Ejercicio 5\n",
    "Escribid una función que va a ser una calculadora. La lista recibirá dos parámetros, una lista de números y un string con la operación que queremos hacer (puede ser \"*\", \"+\")\n",
    "\n",
    "```python\n",
    "Probad con los siguientes inputs\n",
    "\n",
    "lista1 = [11, 6, 98, 1, 2] , \"*\"\n",
    "RESULTADO 12936\n",
    "\n",
    "-----------------------------------\n",
    "lista2 = [23,34, 56, 11, 90] , \"+\"\n",
    "RESULTADO 214\n",
    "\n",
    "-----------------------------------\n",
    "lista3 = [23, 4,109 , 94, 77] , \"-\"\n",
    "RESULTADO 'Lo siento, necesito que me pases una operación valida.'\n",
    "```"
   ]
  },
  {
   "cell_type": "code",
   "execution_count": null,
   "metadata": {},
   "outputs": [],
   "source": []
  }
 ],
 "metadata": {
  "kernelspec": {
   "display_name": "base",
   "language": "python",
   "name": "python3"
  },
  "language_info": {
   "codemirror_mode": {
    "name": "ipython",
    "version": 3
   },
   "file_extension": ".py",
   "mimetype": "text/x-python",
   "name": "python",
   "nbconvert_exporter": "python",
   "pygments_lexer": "ipython3",
   "version": "3.9.7"
  },
  "orig_nbformat": 4
 },
 "nbformat": 4,
 "nbformat_minor": 2
}
